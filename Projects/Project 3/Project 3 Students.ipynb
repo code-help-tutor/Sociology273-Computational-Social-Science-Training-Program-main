{
 "cells": [
  {
   "cell_type": "markdown",
   "metadata": {},
   "source": [
    "# Computational Social Science Project #3 \n",
    "\n",
    "**Enter your Name:**____________\n",
    "\n",
    "*Semester:* Fall 2023"
   ]
  },
  {
   "cell_type": "markdown",
   "metadata": {},
   "source": [
    "## 1. Introduction\n",
    "\n",
    "### Load data "
   ]
  },
  {
   "cell_type": "code",
   "execution_count": null,
   "metadata": {},
   "outputs": [],
   "source": [
    "#\n",
    "# load libraries\n",
    "# -----------\n",
    "import pandas as pd\n",
    "import numpy as np\n",
    "pd.set_option('display.max_columns', None)\n",
    "import seaborn as sns\n",
    "import matplotlib.pyplot as plt\n",
    "%matplotlib inline\n",
    "from sklearn.preprocessing import LabelBinarizer\n",
    "\n",
    "# There are a few warnings that will appear that will not affect your analysis. Run this code to ignore. \n",
    "import warnings\n",
    "warnings.filterwarnings(\"ignore\", category=UserWarning)\n",
    "\n",
    "# Make sure to import other libraries that will be necessary for training models!"
   ]
  },
  {
   "cell_type": "code",
   "execution_count": null,
   "metadata": {},
   "outputs": [],
   "source": [
    "#\n",
    "# read in \"Inspections Data 2011-2013\" csv data\n",
    "# -----------\n",
    "chicago_inspections_2011_to_2013 = pd.read_csv(\"data/Chicago Inspections 2011-2013.csv\", \n",
    "                                              low_memory=False)\n",
    "\n",
    "#\n",
    "# read in  \"Inspections Data 2014_updated\" csv data\n",
    "# -----------\n",
    "chicago_inspections_2014 = pd.read_csv(\"data/Chicago Inspections 2014_updated.csv\",  # be sure to use the \"updated\" data here\n",
    "                                      low_memory=False)"
   ]
  },
  {
   "cell_type": "code",
   "execution_count": null,
   "metadata": {},
   "outputs": [],
   "source": [
    "# look at the inspections data\n",
    "chicago_inspections_2011_to_2013.head()"
   ]
  },
  {
   "cell_type": "code",
   "execution_count": null,
   "metadata": {},
   "outputs": [],
   "source": [
    "# list column names\n",
    "chicago_inspections_2011_to_2013.columns"
   ]
  },
  {
   "cell_type": "code",
   "execution_count": null,
   "metadata": {},
   "outputs": [],
   "source": [
    "# drop column names related to geography, identification, and pass/fail flags that perfectly predict the outcome\n",
    "chicago_inspections_2011_to_2013.drop(columns = ['AKA_Name', \n",
    "                                                 'License',\n",
    "                                                 'Address',\n",
    "                                                 'City',\n",
    "                                                 'State',\n",
    "                                                 'Zip',\n",
    "                                                 'Latitude',\n",
    "                                                 'Longitude',\n",
    "                                                 'Location',\n",
    "                                                 'ID',\n",
    "                                                 'LICENSE_ID',\n",
    "                                                 'LICENSE_TERM_START_DATE',\n",
    "                                                 'LICENSE_TERM_EXPIRATION_DATE',\n",
    "                                                 'LICENSE_STATUS',\n",
    "                                                 'ACCOUNT_NUMBER',\n",
    "                                                 'LEGAL_NAME',\n",
    "                                                 'DOING_BUSINESS_AS_NAME',\n",
    "                                                 'ADDRESS',\n",
    "                                                 'CITY',\n",
    "                                                 'STATE',\n",
    "                                                 'ZIP_CODE',\n",
    "                                                 'WARD',\n",
    "                                                 'PRECINCT',\n",
    "                                                 'LICENSE_CODE',\n",
    "                                                 'BUSINESS_ACTIVITY_ID',\n",
    "                                                 'BUSINESS_ACTIVITY',\n",
    "                                                 'LICENSE_NUMBER',\n",
    "                                                 'LATITUDE',\n",
    "                                                 'LONGITUDE',\n",
    "                                                 'pass_flag',\n",
    "                                                 'fail_flag'],\n",
    "                                     inplace = True)\n",
    "\n",
    "# set index\n",
    "chicago_inspections_2011_to_2013.set_index(['Inspection_ID', 'DBA_Name'], inplace = True)"
   ]
  },
  {
   "cell_type": "code",
   "execution_count": null,
   "metadata": {},
   "outputs": [],
   "source": [
    "# convert the inspection date to a datetime format\n",
    "chicago_inspections_2011_to_2013['Inspection_Date'] = pd.to_datetime(chicago_inspections_2011_to_2013['Inspection_Date'])  "
   ]
  },
  {
   "cell_type": "markdown",
   "metadata": {},
   "source": [
    "### Visualization"
   ]
  },
  {
   "cell_type": "markdown",
   "metadata": {},
   "source": [
    "Let's visualize what inspections look like over time."
   ]
  },
  {
   "cell_type": "code",
   "execution_count": null,
   "metadata": {},
   "outputs": [],
   "source": [
    "# visualize inspections over time\n",
    "# -----------\n",
    "chicago_inspections_2011_to_2013['Inspection_MonthYear'] = chicago_inspections_2011_to_2013['Inspection_Date'].dt.to_period('M')\n",
    "counts_by_day = chicago_inspections_2011_to_2013.groupby('Inspection_MonthYear').count().rename(columns = {'Facility_Type': 'Count'})['Count'].reset_index()\n",
    "counts_by_day.set_index([\"Inspection_MonthYear\"], inplace = True)\n",
    "counts_by_day.plot(title = \"Inspections by Month and Year\") "
   ]
  },
  {
   "cell_type": "markdown",
   "metadata": {},
   "source": [
    "Let's visualize what the distribution of results looks like."
   ]
  },
  {
   "cell_type": "code",
   "execution_count": null,
   "metadata": {},
   "outputs": [],
   "source": [
    "# view inspection results\n",
    "# -----------\n",
    "sns.catplot(data = chicago_inspections_2011_to_2013,\n",
    "           x = \"Results\",\n",
    "           kind = \"count\")\n",
    "\n",
    "plt.title(\"Inspection Results\")\n",
    "plt.show()"
   ]
  },
  {
   "cell_type": "markdown",
   "metadata": {},
   "source": [
    "What if we separate results by facility type?"
   ]
  },
  {
   "cell_type": "code",
   "execution_count": null,
   "metadata": {},
   "outputs": [],
   "source": [
    "# view inspection results by facility type (restaurant or not)\n",
    "# -----------\n",
    "sns.catplot(data = chicago_inspections_2011_to_2013,\n",
    "            x = \"Results\",\n",
    "            kind = \"count\",\n",
    "            hue = 'Facility_Type_Clean')\n",
    "\n",
    "plt.title(\"Inspection Results by Facility Type\")\n",
    "plt.show();"
   ]
  },
  {
   "cell_type": "markdown",
   "metadata": {},
   "source": [
    "## 2. Data Preprocessing and Cleaning"
   ]
  },
  {
   "cell_type": "code",
   "execution_count": null,
   "metadata": {},
   "outputs": [],
   "source": [
    "# drop datetime info\n",
    "# -----------\n",
    "chicago_inspections_2011_to_2013 = chicago_inspections_2011_to_2013.dropna().drop(['Inspection_Date',\n",
    "                                                                                   'minDate',\n",
    "                                                                                   'maxDate',\n",
    "                                                                                   'Inspection_MonthYear'],\n",
    "                                                                                  axis = 1)"
   ]
  },
  {
   "cell_type": "code",
   "execution_count": null,
   "metadata": {},
   "outputs": [],
   "source": [
    "# process target \n",
    "# -----------\n",
    "y = chicago_inspections_2011_to_2013['Results']\n",
    "\n",
    "# decide if you want to binarize the outcome variable \n",
    "# -----------\n",
    "# comment out the following lines of code if you don't want to binarize the target variable\n",
    "y = y.replace({'Pass w/ Conditions': 'Pass'})\n",
    "lb_style = LabelBinarizer()\n",
    "y = lb_style.fit_transform(y)\n",
    "\n",
    "# recode 0s and 1s so 1s are \"Fail\"\n",
    "y = np.where(y == 1, 0 ,1)\n",
    "\n",
    "\n",
    "# process features\n",
    "# -----------\n",
    "\n",
    "# create feature dataset\n",
    "X = chicago_inspections_2011_to_2013.drop(columns = ['Results', \n",
    "                                                     'Facility_Type', \n",
    "                                                     'LICENSE_DESCRIPTION', \n",
    "                                                     'WARD_PRECINCT'])\n",
    "\n",
    "\n",
    "# get dummies\n",
    "X = pd.get_dummies(X)"
   ]
  },
  {
   "cell_type": "code",
   "execution_count": null,
   "metadata": {},
   "outputs": [],
   "source": [
    "# view feature datset\n",
    "X.head()"
   ]
  },
  {
   "cell_type": "markdown",
   "metadata": {},
   "source": [
    "## 3. Fit Models"
   ]
  },
  {
   "cell_type": "markdown",
   "metadata": {},
   "source": [
    "Now choose 3 different machine learning techniques and apply them below. Choose from one of the algorithms we have used in lab (e.g., logistic regression, random forests, `AdaBoost()`, `xgboost()`, `VotingClassifer()`, or `BART`). \n",
    "\n",
    "Detail the basic logic and assumptions underlying each model, its pros/cons, and why it is a plausible choice for this problem. Also, be sure to do the following:\n",
    "\n",
    "1. Import the appropriate library from sklearn\n",
    "2. Set up a hyperparameter grid (check out our previous labs to see how to do this)\n",
    "3. Find the best hyperparameters, and then fit your model (using either train/validation splits or cross-validation)"
   ]
  },
  {
   "cell_type": "markdown",
   "metadata": {},
   "source": [
    "### Model 1"
   ]
  },
  {
   "cell_type": "code",
   "execution_count": null,
   "metadata": {},
   "outputs": [],
   "source": []
  },
  {
   "cell_type": "markdown",
   "metadata": {},
   "source": [
    "###  Model 2"
   ]
  },
  {
   "cell_type": "code",
   "execution_count": null,
   "metadata": {},
   "outputs": [],
   "source": []
  },
  {
   "cell_type": "markdown",
   "metadata": {},
   "source": [
    "### Model 3"
   ]
  },
  {
   "cell_type": "code",
   "execution_count": null,
   "metadata": {},
   "outputs": [],
   "source": []
  },
  {
   "cell_type": "markdown",
   "metadata": {},
   "source": [
    "### Validation Metrics"
   ]
  },
  {
   "cell_type": "markdown",
   "metadata": {},
   "source": [
    "Be sure to explain which of these metrics you would want to prioritize when conducting predictive auditing in this context and why.\n",
    "\n",
    "**Hint**: Try writing a for loop to use [`cross_val_score()`](https://scikit-learn.org/stable/modules/generated/sklearn.model_selection.cross_val_score.html) to check for accuracy, precision, recall and f1 across all of your models."
   ]
  },
  {
   "cell_type": "code",
   "execution_count": null,
   "metadata": {},
   "outputs": [],
   "source": []
  },
  {
   "cell_type": "markdown",
   "metadata": {},
   "source": [
    "## 4. Policy Simulation"
   ]
  },
  {
   "cell_type": "markdown",
   "metadata": {},
   "source": [
    "### Interpretable Machine Learning\n",
    "\n",
    "Use tools like coefficient plots or feature importance plots to investigate your models. Which features contribute to your predictions? Are there any additional features you wish you could incorporate that you don't have available in this analysis?\n",
    "\n",
    "**Hint**: Use tools like feature importance plots and coefficient plots."
   ]
  },
  {
   "cell_type": "code",
   "execution_count": null,
   "metadata": {},
   "outputs": [],
   "source": []
  },
  {
   "cell_type": "markdown",
   "metadata": {},
   "source": [
    "### Prioritize Audits"
   ]
  },
  {
   "cell_type": "markdown",
   "metadata": {},
   "source": [
    "**Hint**: Look up the [`.predict()`](https://www.kite.com/python/docs/sklearn.linear_model.SGDRegressor.predict), [`.predict_proba()`](https://www.kite.com/python/docs/sklearn.linear_model.LogisticRegression.predict_proba), and [`.sample()`](https://pandas.pydata.org/pandas-docs/stable/reference/api/pandas.DataFrame.sample.html) methods. Then: \n",
    "1. Choose one of your models (or train a new simplified model or ensemble!) to predict outcomes and probabilities. \n",
    "2. Order your audits by their probability of detecting a \"Fail\" score\n",
    "3. Plot your distribution of pass/fail among the first 1,000 observations in the dataset\n",
    "4. Simulate random audits on the full chicago_2011_to_2013.csv dataset by picking 1,000 observations at random"
   ]
  },
  {
   "cell_type": "code",
   "execution_count": null,
   "metadata": {},
   "outputs": [],
   "source": [
    "#\n",
    "# 1. Choose one of your models (or train a new simplified model or ensemble!) to predict outcomes and probabilities.\n",
    "# -----------\n"
   ]
  },
  {
   "cell_type": "code",
   "execution_count": null,
   "metadata": {},
   "outputs": [],
   "source": [
    "#\n",
    "# 2. Order your audits by their probability of detecting a \"Fail\" score\n",
    "# -----------\n"
   ]
  },
  {
   "cell_type": "code",
   "execution_count": null,
   "metadata": {},
   "outputs": [],
   "source": [
    "#\n",
    "# 3. Plot your distribution of pass/fail among the first 1,000 observations in the dataset\n",
    "# -----------\n"
   ]
  },
  {
   "cell_type": "code",
   "execution_count": null,
   "metadata": {},
   "outputs": [],
   "source": [
    "#\n",
    "# 4. Simulate random audits on the full chicago_2011_to_2013.csv dataset by picking 1,000 observations at random\n",
    "# -----------\n"
   ]
  },
  {
   "cell_type": "markdown",
   "metadata": {},
   "source": [
    "### Predict on 2014 inspection data\n",
    "\n",
    "Use your favorite model to make predictions based on the features using the \"Chicago Inspection 2014_updated.csv\" file. Treat this as you would a test dataset. This means you will have to format the features (including removing some features and getting dummies) and the label (binarize and recode) in the same way you did the training data. (Remember the \"Results\" column is your label). You will then compare your predictions with the actual."
   ]
  },
  {
   "cell_type": "code",
   "execution_count": null,
   "metadata": {},
   "outputs": [],
   "source": [
    "# data processing\n",
    "# -----------\n",
    "\n",
    "# process features\n",
    "X_test2014 = chicago_inspections_2014[...]\n",
    "\n",
    "# process target \n",
    "y_test2014 = chicago_inspections_2014[...]\n"
   ]
  },
  {
   "cell_type": "code",
   "execution_count": null,
   "metadata": {},
   "outputs": [],
   "source": [
    "# predict and compare \n",
    "# -----------\n"
   ]
  },
  {
   "cell_type": "code",
   "execution_count": null,
   "metadata": {},
   "outputs": [],
   "source": [
    "# evaluate\n",
    "# -----------\n"
   ]
  },
  {
   "cell_type": "markdown",
   "metadata": {},
   "source": [
    "## 5. Discussion Questions"
   ]
  },
  {
   "cell_type": "markdown",
   "metadata": {},
   "source": [
    "1. Why do we need metrics beyond accuracy when using machine learning in the social sciences and public policy?\n"
   ]
  },
  {
   "cell_type": "markdown",
   "metadata": {},
   "source": [
    "**YOUR ANSWER HERE**..."
   ]
  },
  {
   "cell_type": "markdown",
   "metadata": {},
   "source": [
    "2. Imagine that establishments learned about the algorithm being used to determine who gets audited and they started adjusting their behavior (and changing certain key features about themselves that were important for the prediction) to avoid detection. How could policymakers address this interplay between algorithmic decisionmaking and real world behavior?"
   ]
  },
  {
   "cell_type": "markdown",
   "metadata": {},
   "source": [
    "**YOUR ANSWER HERE**..."
   ]
  }
 ],
 "metadata": {
  "kernelspec": {
   "display_name": "Python 3 (ipykernel)",
   "language": "python",
   "name": "python3"
  },
  "language_info": {
   "codemirror_mode": {
    "name": "ipython",
    "version": 3
   },
   "file_extension": ".py",
   "mimetype": "text/x-python",
   "name": "python",
   "nbconvert_exporter": "python",
   "pygments_lexer": "ipython3",
   "version": "3.11.5"
  }
 },
 "nbformat": 4,
 "nbformat_minor": 4
}
